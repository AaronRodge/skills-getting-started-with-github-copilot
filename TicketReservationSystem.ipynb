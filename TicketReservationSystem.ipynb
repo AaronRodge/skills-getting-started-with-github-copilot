{
 "cells": [
  {
   "cell_type": "markdown",
   "metadata": {},
   "source": [
    "# Ticket Reservation System\n",
    "A simple Python ticket reservation system using classes and a CLI-style menu, runnable in a Jupyter notebook."
   ]
  },
  {
   "cell_type": "code",
   "execution_count": null,
   "metadata": {},
   "outputs": [],
   "source": [
    "class TicketReservationSystem:\n",
    "    def __init__(self, total_tickets):\n",
    "        \"\"\"\n",
    "        Initialize the Ticket Reservation System.\n",
    "        Args:\n",
    "            total_tickets (int): The total number of tickets available for reservation.\n",
    "        \"\"\"\n",
    "        self.total_tickets = total_tickets  # Total tickets at the start\n",
    "        self.available_tickets = total_tickets  # Tickets currently available\n",
    "        self.reservations = {}  # Stores reservations as {name: quantity}\n",
    "\n",
    "    def show_available_tickets(self):\n",
    "        \"\"\"Display the number of available tickets.\"\"\"\n",
    "        print(f\"Available tickets: {self.available_tickets}\")\n",
    "\n",
    "    def reserve_ticket(self, name, quantity):\n",
    "        \"\"\"\n",
    "        Reserve a ticket for a customer.\n",
    "        Args:\n",
    "            name (str): The name of the customer.\n",
    "            quantity (int): The number of tickets to reserve.\n",
    "        \"\"\"\n",
    "        if quantity <= 0:\n",
    "            print(\"Invalid quantity.\")\n",
    "            return\n",
    "        if quantity > self.available_tickets:\n",
    "            print(\"Not enough tickets available.\")\n",
    "            return\n",
    "        self.reservations[name] = self.reservations.get(name, 0) + quantity\n",
    "        self.available_tickets -= quantity\n",
    "        print(f\"Reserved {quantity} ticket(s) for {name}\")\n",
    "\n",
    "    def cancel_reservation(self, name):\n",
    "        \"\"\"\n",
    "        Cancel a reservation for a customer.\n",
    "        Args:\n",
    "            name (str): The name of the customer whose reservation is to be cancelled.\n",
    "        \"\"\"\n",
    "        if name in self.reservations:\n",
    "            cancelled = self.reservations[name]\n",
    "            self.available_tickets += cancelled\n",
    "            del self.reservations[name]\n",
    "            print(f\"Cancelled reservation for {name}.\")\n",
    "        else:\n",
    "            print(f\"No reservation found for {name}.\")\n",
    "\n",
    "    def show_reservations(self):\n",
    "        \"\"\"Display all current reservations.\"\"\"\n",
    "        if not self.reservations:\n",
    "            print(\"No reservations made.\")\n",
    "        else:\n",
    "            print(\"Reservations:\")\n",
    "            for name, quantity in self.reservations.items():\n",
    "                print(f\"{name}: {quantity}\")"
   ]
  },
  {
   "cell_type": "markdown",
   "metadata": {},
   "source": [
    "## Create a TicketReservationSystem instance\n",
    "You can change the number of total tickets as needed."
   ]
  },
  {
   "cell_type": "code",
   "execution_count": null,
   "metadata": {},
   "outputs": [],
   "source": [
    "system = TicketReservationSystem(100)  # 100 total tickets"
   ]
  },
  {
   "cell_type": "markdown",
   "metadata": {},
   "source": [
    "## Example: Show available tickets"
   ]
  },
  {
   "cell_type": "code",
   "execution_count": null,
   "metadata": {},
   "outputs": [],
   "source": [
    "system.show_available_tickets()"
   ]
  },
  {
   "cell_type": "markdown",
   "metadata": {},
   "source": [
    "## Example: Reserve tickets"
   ]
  },
  {
   "cell_type": "code",
   "execution_count": null,
   "metadata": {},
   "outputs": [],
   "source": [
    "system.reserve_ticket(\"Alice\", 3)\n",
    "system.reserve_ticket(\"Bob\", 2)"
   ]
  },
  {
   "cell_type": "markdown",
   "metadata": {},
   "source": [
    "## Example: Show current reservations"
   ]
  },
  {
   "cell_type": "code",
   "execution_count": null,
   "metadata": {},
   "outputs": [],
   "source": [
    "system.show_reservations()"
   ]
  },
  {
   "cell_type": "markdown",
   "metadata": {},
   "source": [
    "## Example: Cancel a reservation"
   ]
  },
  {
   "cell_type": "code",
   "execution_count": null,
   "metadata": {},
   "outputs": [],
   "source": [
    "system.cancel_reservation(\"Alice\")"
   ]
  },
  {
   "cell_type": "markdown",
   "metadata": {},
   "source": [
    "## Show available tickets after cancellation"
   ]
  },
  {
   "cell_type": "code",
   "execution_count": null,
   "metadata": {},
   "outputs": [],
   "source": [
    "system.show_available_tickets()"
   ]
  }
 ],
 "metadata": {
  "kernelspec": {
   "display_name": "base",
   "language": "python",
   "name": "python3"
  },
  "language_info": {
   "codemirror_mode": {
    "name": "ipython",
    "version": 3
   },
   "file_extension": ".py",
   "mimetype": "text/x-python",
   "name": "python",
   "nbconvert_exporter": "python",
   "pygments_lexer": "ipython3",
   "version": "3.12.7"
  }
 },
 "nbformat": 4,
 "nbformat_minor": 4
}
